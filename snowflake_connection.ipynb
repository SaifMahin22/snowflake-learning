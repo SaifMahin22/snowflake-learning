{
 "cells": [
  {
   "cell_type": "code",
   "execution_count": 1,
   "id": "1ced80bf",
   "metadata": {},
   "outputs": [
    {
     "data": {
      "text/plain": [
       "True"
      ]
     },
     "execution_count": 1,
     "metadata": {},
     "output_type": "execute_result"
    }
   ],
   "source": [
    "import snowflake.connector\n",
    "import snowflake.connector as sc\n",
    "import os\n",
    "from cryptography.hazmat.primitives import serialization\n",
    "\n",
    "# Load environment variables\n",
    "from dotenv import load_dotenv\n",
    "load_dotenv()"
   ]
  },
  {
   "cell_type": "markdown",
   "id": "fa67de8f",
   "metadata": {},
   "source": [
    "#  snowflake_helper"
   ]
  },
  {
   "cell_type": "code",
   "execution_count": 11,
   "id": "97a22c75",
   "metadata": {},
   "outputs": [
    {
     "name": "stdout",
     "output_type": "stream",
     "text": [
      "Selected warehouse: DEVELOPMENT_QA_WH\n",
      "Selected warehouse: DEVELOPMENT_QA_WH\n"
     ]
    }
   ],
   "source": [
    "# --- snowflake_helper.py (updated) ---\n",
    "import os\n",
    "import threading\n",
    "from queue import Queue\n",
    "from contextlib import contextmanager\n",
    "import snowflake.connector\n",
    "import pandas as pd\n",
    "\n",
    "class SnowflakeHelper:\n",
    "    def __init__(self, database, schema, minconn=1, maxconn=5):\n",
    "        self.database = database\n",
    "        self.schema = schema\n",
    "        self.minconn = minconn\n",
    "        self.maxconn = maxconn\n",
    "        self.pool = Queue(maxconn)\n",
    "        self.lock = threading.Lock()\n",
    "        self._initialize_pool()\n",
    "\n",
    "    def _initialize_pool(self):\n",
    "        \"\"\"Initialize the connection pool with minconn connections.\"\"\"\n",
    "        for _ in range(self.minconn):\n",
    "            self.pool.put(self._create_connection())\n",
    "\n",
    "    def _create_connection(self):\n",
    "        \"\"\"Create a new Snowflake connection using env variables (key-pair or pwd; both supported).\"\"\"\n",
    "        conn = snowflake.connector.connect(\n",
    "            user=os.getenv(\"SNOWFLAKE_USER\"),\n",
    "            account=os.getenv(\"SNOWFLAKE_ACCOUNT\"),\n",
    "            # warehouse=os.getenv(\"SNOWFLAKE_WAREHOUSE\"),\n",
    "            role=os.getenv(\"SNOWFLAKE_ROLE\"),\n",
    "            database=self.database,\n",
    "            schema=self.schema,\n",
    "            # If using key-pair/JWT:\n",
    "            authenticator=os.getenv(\"SNOWFLAKE_AUTHENTICATOR\"),\n",
    "            private_key_file=os.getenv(\"SNOWFLAKE_PRIVATE_KEY\"),\n",
    "        )\n",
    "\n",
    "        print(f'Selected warehouse: {os.getenv(\"SNOWFLAKE_WAREHOUSE\")}')\n",
    "\n",
    "        # # ✅ Explicitly activate the warehouse for the current session\n",
    "        # warehouse = os.getenv(\"SNOWFLAKE_WAREHOUSE\")\n",
    "        # if warehouse:\n",
    "        #     # Clean warehouse name to avoid syntax errors\n",
    "        #     warehouse = warehouse.strip().strip('\"').strip(\"'\").strip(\",\")\n",
    "        #     try:\n",
    "        #         cur = conn.cursor()\n",
    "        #         cur.execute(f'USE WAREHOUSE \"{warehouse}\";')\n",
    "        #         cur.close()\n",
    "        #         print(f\"✅ Active warehouse set: {warehouse}\")\n",
    "        #     except Exception as e:\n",
    "        #         print(f\"⚠️ Warning: Failed to activate warehouse {warehouse}: {e}\")\n",
    "\n",
    "        return conn\n",
    "\n",
    "\n",
    "    @contextmanager\n",
    "    def _get_connection(self):\n",
    "        \"\"\"Fetch a connection from the pool and return it after use.\"\"\"\n",
    "        conn = None\n",
    "        try:\n",
    "            conn = self.pool.get(block=True, timeout=10)\n",
    "            yield conn\n",
    "        finally:\n",
    "            # If connection object exists, return it to the pool.\n",
    "            # (If it's broken, the next execute will error and trigger retry replacement.)\n",
    "            if conn is not None:\n",
    "                try:\n",
    "                    self.pool.put(conn, block=False)\n",
    "                except Exception:\n",
    "                    try:\n",
    "                        conn.close()\n",
    "                    except Exception:\n",
    "                        pass\n",
    "\n",
    "    def _replace_connection(self):\n",
    "        \"\"\"Replace a potentially bad connection with a fresh one (best-effort).\"\"\"\n",
    "        try:\n",
    "            self.pool.put(self._create_connection(), block=False)\n",
    "        except Exception:\n",
    "            pass\n",
    "\n",
    "    def execute_query(self, query: str, params=None, as_df: bool = False, max_retries: int = 1):\n",
    "        \"\"\"\n",
    "        Execute a SQL query using the pool and return (result, error_message).\n",
    "\n",
    "        Returns:\n",
    "            tuple[result, str|None]\n",
    "              - If as_df=True: (pd.DataFrame, error)\n",
    "              - Else: (list[tuple], error)\n",
    "        \"\"\"\n",
    "        # Do NOT strip semicolons; Snowflake accepts them.\n",
    "        params = params or {}\n",
    "        last_err = None\n",
    "\n",
    "        for attempt in range(max_retries + 1):\n",
    "            cursor = None\n",
    "            try:\n",
    "                with self._get_connection() as conn:\n",
    "                    cursor = conn.cursor()\n",
    "                    cursor.execute(query, params)\n",
    "\n",
    "                    if as_df:\n",
    "                        df = cursor.fetch_pandas_all()\n",
    "                        return df, None\n",
    "                    else:\n",
    "                        rows = cursor.fetchall()\n",
    "                        return rows, None\n",
    "\n",
    "            except Exception as e:\n",
    "                last_err = str(e)\n",
    "                # Best-effort: try to replace a potentially broken connection for next attempt\n",
    "                if attempt < max_retries:\n",
    "                    self._replace_connection()\n",
    "                else:\n",
    "                    # Final failure → return typed empty result + error\n",
    "                    if as_df:\n",
    "                        return pd.DataFrame(), last_err\n",
    "                    else:\n",
    "                        return [], last_err\n",
    "            finally:\n",
    "                if cursor is not None:\n",
    "                    try:\n",
    "                        cursor.close()\n",
    "                    except Exception:\n",
    "                        pass\n",
    "\n",
    "# Example - database/schema passed at initialization\n",
    "sf = SnowflakeHelper(database=\"ahp\", schema=\"qa\", minconn=2, maxconn=10)"
   ]
  },
  {
   "cell_type": "code",
   "execution_count": 12,
   "id": "5744a8f0",
   "metadata": {},
   "outputs": [],
   "source": [
    "conn = snowflake.connector.connect(\n",
    "        user=os.getenv(\"SNOWFLAKE_USER\"),\n",
    "        account=os.getenv(\"SNOWFLAKE_ACCOUNT\"),\n",
    "        # warehouse=os.getenv(\"SNOWFLAKE_WAREHOUSE\"),\n",
    "        role=os.getenv(\"SNOWFLAKE_ROLE\"),\n",
    "        database='ahp',\n",
    "        schema='qa',\n",
    "        # If using key-pair/JWT:\n",
    "        authenticator=os.getenv(\"SNOWFLAKE_AUTHENTICATOR\"),\n",
    "        private_key_file=os.getenv(\"SNOWFLAKE_PRIVATE_KEY\"),\n",
    "    )\n"
   ]
  },
  {
   "cell_type": "code",
   "execution_count": 18,
   "id": "984dd210",
   "metadata": {},
   "outputs": [
    {
     "name": "stdout",
     "output_type": "stream",
     "text": [
      "🎭 Available Roles:\n",
      "                             name         owner is_current\n",
      "0                    ACCOUNTADMIN                        N\n",
      "1                         ANALYST  ACCOUNTADMIN          N\n",
      "2              DB_AHP_TRANSFORM_R  ACCOUNTADMIN          N\n",
      "3             DB_AHP_TRANSFORM_RW  ACCOUNTADMIN          N\n",
      "4           DB_ANALYST_AHP_PROD_R  ACCOUNTADMIN          N\n",
      "5             DB_ANALYST_AHP_QA_R  ACCOUNTADMIN          N\n",
      "6   DB_ANALYST_SUPPLYCOPIA_PROD_R  ACCOUNTADMIN          N\n",
      "7     DB_ANALYST_SUPPLYCOPIA_QA_R  ACCOUNTADMIN          N\n",
      "8               DB_DEV_AHP_DEV_RW  ACCOUNTADMIN          N\n",
      "9               DB_DEV_AHP_PROD_R  ACCOUNTADMIN          N\n",
      "10                DB_DEV_AHP_QA_R  ACCOUNTADMIN          N\n",
      "11      DB_DEV_SUPPLYCOPIA_DEV_RW  ACCOUNTADMIN          N\n",
      "12      DB_DEV_SUPPLYCOPIA_PROD_R  ACCOUNTADMIN          N\n",
      "13        DB_DEV_SUPPLYCOPIA_QA_R  ACCOUNTADMIN          N\n",
      "14               DB_MS_AHP_PROD_R  ACCOUNTADMIN          N\n",
      "15              DB_MS_AHP_PROD_RW  ACCOUNTADMIN          N\n",
      "16                 DB_MS_AHP_QA_R  ACCOUNTADMIN          N\n",
      "17                DB_MS_AHP_QA_RW  ACCOUNTADMIN          N\n",
      "18       DB_MS_SUPPLYCOPIA_PROD_R  ACCOUNTADMIN          N\n",
      "19      DB_MS_SUPPLYCOPIA_PROD_RW  ACCOUNTADMIN          N\n",
      "20         DB_MS_SUPPLYCOPIA_QA_R  ACCOUNTADMIN          N\n",
      "21        DB_MS_SUPPLYCOPIA_QA_RW  ACCOUNTADMIN          N\n",
      "22                     DEVELOPERS  ACCOUNTADMIN          N\n",
      "23               MANAGED_SERVICES  ACCOUNTADMIN          N\n",
      "24                         ML_LLM  ACCOUNTADMIN          Y\n",
      "25                       ORGADMIN                        N\n",
      "26                         PUBLIC                        N\n",
      "27                  SECURITYADMIN                        N\n",
      "28        SNOWFLAKE_LEARNING_ROLE  ACCOUNTADMIN          N\n",
      "29                       SYSADMIN                        N\n",
      "30                   S_DEVELOPERS  ACCOUNTADMIN          N\n",
      "31                      TRANSFORM  ACCOUNTADMIN          N\n",
      "32                      USERADMIN                        N\n"
     ]
    }
   ],
   "source": [
    "import pandas as pd\n",
    "\n",
    "cur = conn.cursor()\n",
    "cur.execute(\"SHOW ROLES;\")\n",
    "roles_data = cur.fetchall()\n",
    "columns = [col[0] for col in cur.description]\n",
    "roles_df = pd.DataFrame(roles_data, columns=columns)\n",
    "cur.close()\n",
    "\n",
    "print(\"🎭 Available Roles:\")\n",
    "print(roles_df[[\"name\", \"owner\", \"is_current\"]])\n"
   ]
  },
  {
   "cell_type": "code",
   "execution_count": 19,
   "id": "23039d2e",
   "metadata": {},
   "outputs": [
    {
     "name": "stdout",
     "output_type": "stream",
     "text": [
      "🏢 Available Warehouses:\n",
      "                           name      state     size  auto_suspend auto_resume  \\\n",
      "0             DATAMANAGEMENT_WH  SUSPENDED  X-Small           300        true   \n",
      "1  SYSTEM$STREAMLIT_NOTEBOOK_WH  SUSPENDED  X-Small            60        true   \n",
      "\n",
      "                        created_on  \n",
      "0 2025-09-30 01:26:17.701000-07:00  \n",
      "1 2025-07-07 03:16:31.311000-07:00  \n"
     ]
    }
   ],
   "source": [
    "cur = conn.cursor()\n",
    "cur.execute(\"SHOW WAREHOUSES;\")\n",
    "warehouses_data = cur.fetchall()\n",
    "columns = [col[0] for col in cur.description]\n",
    "warehouses_df = pd.DataFrame(warehouses_data, columns=columns)\n",
    "cur.close()\n",
    "\n",
    "print(\"🏢 Available Warehouses:\")\n",
    "print(warehouses_df[[\"name\", \"state\", \"size\", \"auto_suspend\", \"auto_resume\", \"created_on\"]])\n"
   ]
  },
  {
   "cell_type": "code",
   "execution_count": null,
   "id": "6c841ff8",
   "metadata": {},
   "outputs": [
    {
     "name": "stdout",
     "output_type": "stream",
     "text": [
      "(datetime.datetime(2025, 9, 29, 20, 37, 25, 802000, tzinfo=<DstTzInfo 'America/Los_Angeles' PDT-1 day, 17:00:00 DST>), 'USAGE', 'ROLE', 'DB_MS_AHP_PROD_R', 'ROLE', 'ML_LLM', 'false', 'ACCOUNTADMIN')\n",
      "(datetime.datetime(2025, 9, 29, 20, 37, 25, 284000, tzinfo=<DstTzInfo 'America/Los_Angeles' PDT-1 day, 17:00:00 DST>), 'USAGE', 'ROLE', 'DB_MS_AHP_QA_R', 'ROLE', 'ML_LLM', 'false', 'ACCOUNTADMIN')\n",
      "(datetime.datetime(2025, 9, 29, 20, 37, 26, 795000, tzinfo=<DstTzInfo 'America/Los_Angeles' PDT-1 day, 17:00:00 DST>), 'USAGE', 'ROLE', 'DB_MS_SUPPLYCOPIA_PROD_R', 'ROLE', 'ML_LLM', 'false', 'ACCOUNTADMIN')\n",
      "(datetime.datetime(2025, 9, 29, 20, 37, 26, 264000, tzinfo=<DstTzInfo 'America/Los_Angeles' PDT-1 day, 17:00:00 DST>), 'USAGE', 'ROLE', 'DB_MS_SUPPLYCOPIA_QA_R', 'ROLE', 'ML_LLM', 'false', 'ACCOUNTADMIN')\n"
     ]
    },
    {
     "data": {
      "text/plain": [
       "True"
      ]
     },
     "execution_count": 21,
     "metadata": {},
     "output_type": "execute_result"
    }
   ],
   "source": [
    "cur = conn.cursor()\n",
    "cur.execute(\"SHOW GRANTS TO ROLE ML_LLM;\")\n",
    "rows = cur.fetchall()\n",
    "for r in rows:\n",
    "    print(r)\n",
    "cur.close()"
   ]
  },
  {
   "cell_type": "code",
   "execution_count": 22,
   "id": "c8107ce4",
   "metadata": {},
   "outputs": [
    {
     "name": "stdout",
     "output_type": "stream",
     "text": [
      "✅ Successfully set active warehouse: DATAMANAGEMENT_WH\n"
     ]
    }
   ],
   "source": [
    "warehouse_name = \"DATAMANAGEMENT_WH\"  # change if needed\n",
    "\n",
    "cur = conn.cursor()\n",
    "try:\n",
    "    cur.execute(f'USE WAREHOUSE \"{warehouse_name}\";')\n",
    "    print(f\"✅ Successfully set active warehouse: {warehouse_name}\")\n",
    "except Exception as e:\n",
    "    print(f\"❌ Failed to set warehouse {warehouse_name}: {e}\")\n",
    "finally:\n",
    "    cur.close()\n"
   ]
  },
  {
   "cell_type": "code",
   "execution_count": 17,
   "id": "b4022794",
   "metadata": {},
   "outputs": [
    {
     "ename": "NotSupportedError",
     "evalue": "Unknown error",
     "output_type": "error",
     "traceback": [
      "\u001b[1;31m---------------------------------------------------------------------------\u001b[0m",
      "\u001b[1;31mNotSupportedError\u001b[0m                         Traceback (most recent call last)",
      "Cell \u001b[1;32mIn[17], line 1\u001b[0m\n\u001b[1;32m----> 1\u001b[0m \u001b[43mcur\u001b[49m\u001b[38;5;241;43m.\u001b[39;49m\u001b[43mfetch_pandas_all\u001b[49m\u001b[43m(\u001b[49m\u001b[43m)\u001b[49m\n",
      "File \u001b[1;32mc:\\Users\\NewUser\\AppData\\Local\\Programs\\Python\\Python310\\lib\\site-packages\\snowflake\\connector\\cursor.py:1387\u001b[0m, in \u001b[0;36mSnowflakeCursor.fetch_pandas_all\u001b[1;34m(self, **kwargs)\u001b[0m\n\u001b[0;32m   1385\u001b[0m     \u001b[38;5;28mself\u001b[39m\u001b[38;5;241m.\u001b[39m_prefetch_hook()\n\u001b[0;32m   1386\u001b[0m \u001b[38;5;28;01mif\u001b[39;00m \u001b[38;5;28mself\u001b[39m\u001b[38;5;241m.\u001b[39m_query_result_format \u001b[38;5;241m!=\u001b[39m \u001b[38;5;124m\"\u001b[39m\u001b[38;5;124marrow\u001b[39m\u001b[38;5;124m\"\u001b[39m:\n\u001b[1;32m-> 1387\u001b[0m     \u001b[38;5;28;01mraise\u001b[39;00m NotSupportedError\n\u001b[0;32m   1388\u001b[0m \u001b[38;5;28mself\u001b[39m\u001b[38;5;241m.\u001b[39m_log_telemetry_job_data(\n\u001b[0;32m   1389\u001b[0m     TelemetryField\u001b[38;5;241m.\u001b[39mPANDAS_FETCH_ALL, TelemetryData\u001b[38;5;241m.\u001b[39mTRUE\n\u001b[0;32m   1390\u001b[0m )\n\u001b[0;32m   1391\u001b[0m \u001b[38;5;28;01mreturn\u001b[39;00m \u001b[38;5;28mself\u001b[39m\u001b[38;5;241m.\u001b[39m_result_set\u001b[38;5;241m.\u001b[39m_fetch_pandas_all(\u001b[38;5;241m*\u001b[39m\u001b[38;5;241m*\u001b[39mkwargs)\n",
      "\u001b[1;31mNotSupportedError\u001b[0m: Unknown error"
     ]
    }
   ],
   "source": [
    "cur.fetch_pandas_all()"
   ]
  },
  {
   "cell_type": "code",
   "execution_count": 16,
   "id": "e644a1bd",
   "metadata": {},
   "outputs": [
    {
     "ename": "NameError",
     "evalue": "name 'roles_df' is not defined",
     "output_type": "error",
     "traceback": [
      "\u001b[1;31m---------------------------------------------------------------------------\u001b[0m",
      "\u001b[1;31mNameError\u001b[0m                                 Traceback (most recent call last)",
      "Cell \u001b[1;32mIn[16], line 1\u001b[0m\n\u001b[1;32m----> 1\u001b[0m \u001b[43mroles_df\u001b[49m\n",
      "\u001b[1;31mNameError\u001b[0m: name 'roles_df' is not defined"
     ]
    }
   ],
   "source": [
    "roles_df"
   ]
  },
  {
   "cell_type": "code",
   "execution_count": null,
   "id": "8e79a4a3",
   "metadata": {},
   "outputs": [],
   "source": [
    "# # Example - database/schema passed at initialization\n",
    "# sf = SnowflakeHelper(database=\"ahp\", schema=\"qa\", minconn=2, maxconn=10)"
   ]
  },
  {
   "cell_type": "code",
   "execution_count": null,
   "id": "281d4828",
   "metadata": {},
   "outputs": [],
   "source": []
  },
  {
   "cell_type": "code",
   "execution_count": null,
   "id": "01393d88",
   "metadata": {},
   "outputs": [],
   "source": [
    "# cqo_chatbot_case_level\n",
    "# cqo_chatbot_product_level\n",
    "# cqo_chatbot_robotics"
   ]
  },
  {
   "cell_type": "code",
   "execution_count": 23,
   "id": "260f6841",
   "metadata": {},
   "outputs": [
    {
     "name": "stdout",
     "output_type": "stream",
     "text": [
      "Selected warehouse: DEVELOPMENT_QA_WH\n"
     ]
    }
   ],
   "source": [
    "tbl_name = \"cqo_chatbot_case_level\"\n",
    "df, error = sf.execute_query(\"SELECT * from cqo_chatbot_case_level limit 10\", as_df=False)"
   ]
  },
  {
   "cell_type": "code",
   "execution_count": 29,
   "id": "f8321427",
   "metadata": {},
   "outputs": [
    {
     "name": "stdout",
     "output_type": "stream",
     "text": [
      "✅ Query executed successfully!\n",
      "                                         EMR_P_EVENT EMR_HOSPITAL_ROLLUP  \\\n",
      "0         MARYVIEW MEDICAL CENTER-920242285156-28750       HAMPTON ROADS   \n",
      "1  MERCY HEALTH - ST. JOSEPH WARREN HOSPITAL-7212...          YOUNGSTOWN   \n",
      "2  MERCY HEALTH - ST. ELIZABETH BOARDMAN HOSPITAL...          YOUNGSTOWN   \n",
      "3  MERCY HEALTH - FAIRFIELD HOSPITAL-616233478346...          CINCINNATI   \n",
      "4              LOURDES HOSPITAL-101252021123-0FT44ZZ            KENTUCKY   \n",
      "\n",
      "                 EMR_FACILITY_NAME  \\\n",
      "0          MARYVIEW MEDICAL CENTER   \n",
      "1       ST. JOSEPH WARREN HOSPITAL   \n",
      "2  ST. ELIZABETH BOARDMAN HOSPITAL   \n",
      "3               FAIRFIELD HOSPITAL   \n",
      "4                 LOURDES HOSPITAL   \n",
      "\n",
      "                                          EMR_MS_DRG  \\\n",
      "0                                            UNKNOWN   \n",
      "1                                            UNKNOWN   \n",
      "2  788-CESAREAN SECTION WITHOUT STERILIZATION WIT...   \n",
      "3                                            UNKNOWN   \n",
      "4  853-INFECTIOUS AND PARASITIC DISEASES WITH O.R...   \n",
      "\n",
      "                              EMR_SURGICAL_HIERARCHY  \\\n",
      "0                                                 NA   \n",
      "1                                                 NA   \n",
      "2      MDC 14 PREGNANCY, CHILDBIRTH & THE PUERPERIUM   \n",
      "3                                                 NA   \n",
      "4  MDC 18 INFECTIOUS & PARASITIC DISEASES, SYSTEM...   \n",
      "\n",
      "                               EMR_PRIMARY_PROCEDURE EMR_SERVICE_LINE  \\\n",
      "0  28750-+PR ARTHRODESIS GREAT TOE METATARSOPHALA...      ORTHOPEDICS   \n",
      "1  59820-TREATMENT OF MISSED ABORTION, COMPLETED ...   WOMEN'S HEALTH   \n",
      "2  10D00Z1-EXTRACTION OF PRODUCTS OF CONCEPTION, ...   WOMEN'S HEALTH   \n",
      "3  52310-CYSTOURETHROSCOPY, WITH REMOVAL OF FOREI...          SURGERY   \n",
      "4  0FT44ZZ-RESECTION OF GALLBLADDER, PERCUTANEOUS...          SURGERY   \n",
      "\n",
      "  EMR_PATIENT_TYPE_BUCKET EMR_PATIENT_CLASS    EMR_LEAD_SURGEON  ...  \\\n",
      "0              OUTPATIENT  SAME DAY SURGERY    BAJANI, VIHANG A  ...   \n",
      "1              OUTPATIENT  SAME DAY SURGERY  ABDUL-AAL, AMINE R  ...   \n",
      "2               INPATIENT         INPATIENT  WINCHESTER, TARA D  ...   \n",
      "3              OUTPATIENT  SAME DAY SURGERY     LOVE, MATTHEW A  ...   \n",
      "4               INPATIENT         INPATIENT     FRATTINI, JARED  ...   \n",
      "\n",
      "  EMR_TOTAL_CHARGES  EMR_ACTUAL_REVENUE  EMR_MEDICARE_NORMALIZED_REVENUE  \\\n",
      "0         135595.05            13910.25                             0.00   \n",
      "1          16003.50             3829.94                          2540.23   \n",
      "2          22531.80             8822.00                          7475.97   \n",
      "3          12382.80             1724.13                          1752.16   \n",
      "4          71066.19            34065.10                         30209.50   \n",
      "\n",
      "   EMR_ACTUAL_INCOME EMR_ACTUAL_CONTRIBUTION_MARGIN  EMR_TOTAL_DIRECT_COST  \\\n",
      "0        -10456.5796                     -6320.0918             20230.3418   \n",
      "1          1103.3387                      2179.1174              1650.8226   \n",
      "2          3894.2731                      5418.2406              3403.7594   \n",
      "3          -288.2856                       418.2314              1305.8986   \n",
      "4         21820.4688                     26141.3531              7923.7469   \n",
      "\n",
      "   EMR_TOTAL_INDIRECT_COST  EMR_FIXED_DIRECT_COST  EMR_VARIABLE_DIRECT_COST  \\\n",
      "0                4136.4878               333.5374                19896.8044   \n",
      "1                1075.7787               165.0894                 1485.7332   \n",
      "2                1523.9675               333.0047                 3070.7547   \n",
      "3                 706.5170               168.7968                 1137.1018   \n",
      "4                4320.8843               829.8783                 7093.8686   \n",
      "\n",
      "    ID  \n",
      "0  201  \n",
      "1  202  \n",
      "2  203  \n",
      "3  204  \n",
      "4  205  \n",
      "\n",
      "[5 rows x 47 columns]\n"
     ]
    }
   ],
   "source": [
    "import pandas as pd\n",
    "\n",
    "cur = conn.cursor()\n",
    "try:\n",
    "    # ✅ Make sure you have an active warehouse\n",
    "    cur.execute('USE WAREHOUSE \"DEVELOPMENT_QA_WH\";')\n",
    "\n",
    "    # ✅ Run your query\n",
    "    cur.execute(\"SELECT * FROM cqo_chatbot_case_level LIMIT 10;\")\n",
    "\n",
    "    # ✅ Fetch results\n",
    "    rows = cur.fetchall()\n",
    "\n",
    "    # ✅ Get column names\n",
    "    columns = [col[0] for col in cur.description]\n",
    "\n",
    "    # ✅ Convert to DataFrame (optional)\n",
    "    df = pd.DataFrame(rows, columns=columns)\n",
    "\n",
    "    print(\"✅ Query executed successfully!\")\n",
    "    print(df.head())\n",
    "\n",
    "except Exception as e:\n",
    "    print(f\"❌ Error executing query: {e}\")\n",
    "\n",
    "finally:\n",
    "    cur.close()\n"
   ]
  },
  {
   "cell_type": "code",
   "execution_count": null,
   "id": "e8c40f69",
   "metadata": {},
   "outputs": [],
   "source": []
  },
  {
   "cell_type": "code",
   "execution_count": null,
   "id": "73b62596",
   "metadata": {},
   "outputs": [],
   "source": [
    "error"
   ]
  },
  {
   "cell_type": "code",
   "execution_count": null,
   "id": "25a775b1",
   "metadata": {},
   "outputs": [],
   "source": [
    "error"
   ]
  },
  {
   "cell_type": "code",
   "execution_count": null,
   "id": "b434f1a9",
   "metadata": {},
   "outputs": [],
   "source": []
  },
  {
   "cell_type": "code",
   "execution_count": null,
   "id": "7120a7f3",
   "metadata": {},
   "outputs": [],
   "source": [
    "error"
   ]
  },
  {
   "cell_type": "code",
   "execution_count": 9,
   "id": "5d5113d5",
   "metadata": {},
   "outputs": [
    {
     "name": "stdout",
     "output_type": "stream",
     "text": [
      "Selected warehouse: DEVELOPMENT_QA_WH\n"
     ]
    },
    {
     "data": {
      "text/plain": [
       "[]"
      ]
     },
     "execution_count": 9,
     "metadata": {},
     "output_type": "execute_result"
    }
   ],
   "source": [
    "# --- List Active Warehouses using SnowflakeHelper ---\n",
    "query = \"SHOW WAREHOUSES;\"\n",
    "values, err = sf.execute_query(query, as_df=False)\n",
    "values\n"
   ]
  },
  {
   "cell_type": "code",
   "execution_count": 10,
   "id": "120fe2e8",
   "metadata": {},
   "outputs": [
    {
     "data": {
      "text/plain": [
       "[]"
      ]
     },
     "execution_count": 10,
     "metadata": {},
     "output_type": "execute_result"
    }
   ],
   "source": [
    "values "
   ]
  },
  {
   "cell_type": "code",
   "execution_count": 5,
   "id": "438dbbd6",
   "metadata": {},
   "outputs": [
    {
     "data": {
      "text/plain": [
       "[]"
      ]
     },
     "execution_count": 5,
     "metadata": {},
     "output_type": "execute_result"
    }
   ],
   "source": [
    "values "
   ]
  },
  {
   "cell_type": "code",
   "execution_count": null,
   "id": "29da6fcb",
   "metadata": {},
   "outputs": [],
   "source": [
    "df"
   ]
  },
  {
   "cell_type": "code",
   "execution_count": null,
   "id": "fca79c9d",
   "metadata": {},
   "outputs": [],
   "source": [
    "df "
   ]
  },
  {
   "cell_type": "code",
   "execution_count": null,
   "id": "1b45fcab",
   "metadata": {},
   "outputs": [],
   "source": [
    "df"
   ]
  },
  {
   "cell_type": "code",
   "execution_count": null,
   "id": "f7f74db5",
   "metadata": {},
   "outputs": [],
   "source": []
  },
  {
   "cell_type": "code",
   "execution_count": null,
   "id": "10727f6f",
   "metadata": {},
   "outputs": [],
   "source": [
    "query = \"SHOW WAREHOUSES;\"\n",
    "# query = \"ALTER WAREHOUSE DATAMANAGEMENT_WH RESUME;\"\n",
    "values, err = sf.execute_query(query, as_df=False)\n",
    "values"
   ]
  },
  {
   "cell_type": "code",
   "execution_count": null,
   "id": "7d4ab09e",
   "metadata": {},
   "outputs": [],
   "source": [
    "values"
   ]
  },
  {
   "cell_type": "code",
   "execution_count": null,
   "id": "44b12502",
   "metadata": {},
   "outputs": [],
   "source": [
    "df = pd.DataFrame(values)"
   ]
  },
  {
   "cell_type": "code",
   "execution_count": null,
   "id": "688eb633",
   "metadata": {},
   "outputs": [],
   "source": [
    "df "
   ]
  },
  {
   "cell_type": "code",
   "execution_count": null,
   "id": "bfa626a0",
   "metadata": {},
   "outputs": [],
   "source": []
  },
  {
   "cell_type": "code",
   "execution_count": null,
   "id": "7dff432b",
   "metadata": {},
   "outputs": [],
   "source": [
    "df "
   ]
  },
  {
   "cell_type": "code",
   "execution_count": null,
   "id": "514925bc",
   "metadata": {},
   "outputs": [],
   "source": [
    "df"
   ]
  },
  {
   "cell_type": "code",
   "execution_count": null,
   "id": "6e56826b",
   "metadata": {},
   "outputs": [],
   "source": [
    "error"
   ]
  },
  {
   "cell_type": "code",
   "execution_count": null,
   "id": "007002b9",
   "metadata": {},
   "outputs": [],
   "source": [
    "df "
   ]
  },
  {
   "cell_type": "code",
   "execution_count": null,
   "id": "d1bc994c",
   "metadata": {},
   "outputs": [],
   "source": [
    "df = sf.execute_query(query, as_df=True)\n",
    "column_list = df['COLUMN_NAME'].unique().tolist()"
   ]
  },
  {
   "cell_type": "code",
   "execution_count": null,
   "id": "6f087712",
   "metadata": {},
   "outputs": [],
   "source": []
  }
 ],
 "metadata": {
  "kernelspec": {
   "display_name": "Python 3",
   "language": "python",
   "name": "python3"
  },
  "language_info": {
   "codemirror_mode": {
    "name": "ipython",
    "version": 3
   },
   "file_extension": ".py",
   "mimetype": "text/x-python",
   "name": "python",
   "nbconvert_exporter": "python",
   "pygments_lexer": "ipython3",
   "version": "3.10.10"
  }
 },
 "nbformat": 4,
 "nbformat_minor": 5
}
