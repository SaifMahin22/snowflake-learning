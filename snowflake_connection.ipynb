{
 "cells": [
  {
   "cell_type": "code",
   "execution_count": null,
   "id": "1ced80bf",
   "metadata": {},
   "outputs": [],
   "source": [
    "import snowflake.connector\n",
    "import snowflake.connector as sc\n",
    "import os\n",
    "from cryptography.hazmat.primitives import serialization\n",
    "\n",
    "# Load environment variables\n",
    "from dotenv import load_dotenv\n",
    "load_dotenv()"
   ]
  },
  {
   "cell_type": "markdown",
   "id": "fa67de8f",
   "metadata": {},
   "source": [
    "#  snowflake_helper"
   ]
  },
  {
   "cell_type": "code",
   "execution_count": 11,
   "id": "97a22c75",
   "metadata": {},
   "outputs": [],
   "source": [
    "# snowflake_helper.py\n",
    "import os\n",
    "import logging\n",
    "import threading\n",
    "from queue import Queue\n",
    "from contextlib import contextmanager\n",
    "import snowflake.connector\n",
    "import pandas as pd\n",
    "\n",
    "logging.basicConfig(level=logging.INFO)\n",
    "\n",
    "class SnowflakeHelper:\n",
    "    def __init__(self, database, schema, minconn=1, maxconn=5):\n",
    "        self.database = database\n",
    "        self.schema = schema\n",
    "        self.minconn = minconn\n",
    "        self.maxconn = maxconn\n",
    "        self.pool = Queue(maxconn)\n",
    "        self.lock = threading.Lock()\n",
    "        self._initialize_pool()\n",
    "\n",
    "    def _initialize_pool(self):\n",
    "        \"\"\"Initialize the connection pool with minconn connections.\"\"\"\n",
    "        for _ in range(self.minconn):\n",
    "            self.pool.put(self._create_connection())\n",
    "\n",
    "    def _create_connection(self):\n",
    "        \"\"\"Create a new Snowflake connection using env variables (with key-pair auth).\"\"\"\n",
    "        return snowflake.connector.connect(\n",
    "            user=os.getenv(\"SNOWFLAKE_USER\"),\n",
    "            private_key_file=os.getenv(\"SNOWFLAKE_PRIVATE_KEY\"),  # path to private key\n",
    "            account=os.getenv(\"SNOWFLAKE_ACCOUNT\"),\n",
    "            warehouse=os.getenv(\"SNOWFLAKE_WAREHOUSE\"),\n",
    "            authenticator=os.getenv(\"SNOWFLAKE_AUTHENTICATOR\"),\n",
    "            role=os.getenv(\"SNOWFLAKE_ROLE\"),\n",
    "            database=self.database,\n",
    "            schema=self.schema,\n",
    "        )\n",
    "\n",
    "    @contextmanager\n",
    "    def _get_connection(self):\n",
    "        \"\"\"Context manager to fetch & release a connection.\"\"\"\n",
    "        conn = None\n",
    "        try:\n",
    "            conn = self.pool.get(block=True, timeout=10)\n",
    "            yield conn\n",
    "        except Exception as e:\n",
    "            logging.error(f\"Error getting connection: {e}\")\n",
    "            if conn:\n",
    "                conn.close()\n",
    "            raise\n",
    "        finally:\n",
    "            if conn:\n",
    "                self.pool.put(conn)\n",
    "\n",
    "    def execute_query(self, query, params=None, as_df=False):\n",
    "        \"\"\"\n",
    "        Execute a SQL query using the pool.\n",
    "        :param query: SQL query string\n",
    "        :param params: dict for parameterized query\n",
    "        :param as_df: return results as pandas DataFrame if True\n",
    "        \"\"\"\n",
    "        try:\n",
    "            with self._get_connection() as conn:\n",
    "                cursor = conn.cursor()\n",
    "                cursor.execute(query, params or {})\n",
    "                if as_df:\n",
    "                    df = cursor.fetch_pandas_all()\n",
    "                    cursor.close()\n",
    "                    return df\n",
    "                else:\n",
    "                    results = cursor.fetchall()\n",
    "                    cursor.close()\n",
    "                    return results\n",
    "        except Exception as e:\n",
    "            logging.error(f\"Query execution failed: {e}\")\n",
    "            raise"
   ]
  },
  {
   "cell_type": "code",
   "execution_count": 12,
   "id": "8e79a4a3",
   "metadata": {},
   "outputs": [
    {
     "name": "stderr",
     "output_type": "stream",
     "text": [
      "INFO:snowflake.connector.connection:Snowflake Connector for Python Version: 3.17.4, Python Version: 3.10.10, Platform: Windows-10-10.0.19045-SP0\n",
      "INFO:snowflake.connector.connection:Connecting to GLOBAL Snowflake domain\n",
      "INFO:botocore.credentials:Found credentials in environment variables.\n",
      "INFO:snowflake.connector.connection:Snowflake Connector for Python Version: 3.17.4, Python Version: 3.10.10, Platform: Windows-10-10.0.19045-SP0\n",
      "INFO:snowflake.connector.connection:Connecting to GLOBAL Snowflake domain\n"
     ]
    }
   ],
   "source": [
    "# Example - database/schema passed at initialization\n",
    "sf = SnowflakeHelper(database=\"ahp\", schema=\"qa\", minconn=2, maxconn=10)"
   ]
  },
  {
   "cell_type": "code",
   "execution_count": null,
   "id": "01393d88",
   "metadata": {},
   "outputs": [],
   "source": [
    "# cqo_chatbot_case_level\n",
    "# cqo_chatbot_product_level\n",
    "# cqo_chatbot_robotics"
   ]
  },
  {
   "cell_type": "code",
   "execution_count": 16,
   "id": "b434f1a9",
   "metadata": {},
   "outputs": [],
   "source": [
    "df = sf.execute_query(\"SELECT * from cqo_chatbot_case_level limit 1000\", as_df=True)"
   ]
  }
 ],
 "metadata": {
  "kernelspec": {
   "display_name": "Python 3",
   "language": "python",
   "name": "python3"
  },
  "language_info": {
   "codemirror_mode": {
    "name": "ipython",
    "version": 3
   },
   "file_extension": ".py",
   "mimetype": "text/x-python",
   "name": "python",
   "nbconvert_exporter": "python",
   "pygments_lexer": "ipython3",
   "version": "3.10.10"
  }
 },
 "nbformat": 4,
 "nbformat_minor": 5
}
